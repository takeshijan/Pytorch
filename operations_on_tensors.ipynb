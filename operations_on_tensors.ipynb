{
 "cells": [
  {
   "cell_type": "code",
   "execution_count": 74,
   "metadata": {},
   "outputs": [],
   "source": [
    "import torch"
   ]
  },
  {
   "cell_type": "code",
   "execution_count": 75,
   "metadata": {},
   "outputs": [],
   "source": [
    "device = \"cuda\" if torch.cuda.is_available() else \"cpu\"  #tensorlar hisoblanadigan qurilma (gpu yoki cpu)"
   ]
  },
  {
   "cell_type": "markdown",
   "metadata": {},
   "source": [
    "**Tensorlarni hosil qilish**"
   ]
  },
  {
   "cell_type": "code",
   "execution_count": 76,
   "metadata": {},
   "outputs": [
    {
     "data": {
      "text/plain": [
       "tensor([[1., 2., 3.],\n",
       "        [6., 3., 4.]])"
      ]
     },
     "execution_count": 76,
     "metadata": {},
     "output_type": "execute_result"
    }
   ],
   "source": [
    "my_tensor = torch.tensor([   #tensor funksiyasi yordamida \n",
    "    [1,2,3],\n",
    "    [6,3,4]\n",
    "] ,dtype=torch.float32 , device=device)\n",
    "my_tensor"
   ]
  },
  {
   "cell_type": "code",
   "execution_count": 77,
   "metadata": {},
   "outputs": [
    {
     "data": {
      "text/plain": [
       "tensor([[-1.7830e+02,  4.5650e-41,  5.7262e-35,  0.0000e+00,  1.4013e-45],\n",
       "        [ 0.0000e+00,  5.8695e-35,  0.0000e+00,  0.0000e+00,  0.0000e+00],\n",
       "        [ 0.0000e+00,  0.0000e+00,  5.8782e-35,  0.0000e+00,  4.6954e-36],\n",
       "        [ 0.0000e+00,  4.8699e+13,  4.5650e-41,  1.4013e-45,  0.0000e+00],\n",
       "        [ 8.4078e-45,  0.0000e+00,  0.0000e+00,  0.0000e+00,  0.0000e+00]])"
      ]
     },
     "execution_count": 77,
     "metadata": {},
     "output_type": "execute_result"
    }
   ],
   "source": [
    "x = torch.empty(5,5) \n",
    "# 5x5 tensor uchun hotiradan joy ajratadi\n",
    "# (Agar hotira manzilida elementlar mavjud bo'lsa ularni aks holda 0 qaytaradi)\n",
    "x"
   ]
  },
  {
   "cell_type": "code",
   "execution_count": 78,
   "metadata": {},
   "outputs": [
    {
     "data": {
      "text/plain": [
       "tensor([[0., 0., 0., 0.],\n",
       "        [0., 0., 0., 0.],\n",
       "        [0., 0., 0., 0.],\n",
       "        [0., 0., 0., 0.]])"
      ]
     },
     "execution_count": 78,
     "metadata": {},
     "output_type": "execute_result"
    }
   ],
   "source": [
    "x = torch.zeros(size=(4,4)) #4x4 o'lchamdagi 0 tensor hosil qiladi\n",
    "x"
   ]
  },
  {
   "cell_type": "code",
   "execution_count": 79,
   "metadata": {},
   "outputs": [
    {
     "data": {
      "text/plain": [
       "tensor([[1., 1., 1., 1., 1., 1.],\n",
       "        [1., 1., 1., 1., 1., 1.],\n",
       "        [1., 1., 1., 1., 1., 1.],\n",
       "        [1., 1., 1., 1., 1., 1.],\n",
       "        [1., 1., 1., 1., 1., 1.],\n",
       "        [1., 1., 1., 1., 1., 1.]])"
      ]
     },
     "execution_count": 79,
     "metadata": {},
     "output_type": "execute_result"
    }
   ],
   "source": [
    "x = torch.ones(size=(6,6)) #6x6 o'lchamdagi 1 lik tensor hosil qiladi\n",
    "x"
   ]
  },
  {
   "cell_type": "code",
   "execution_count": 80,
   "metadata": {},
   "outputs": [
    {
     "data": {
      "text/plain": [
       "tensor([[1., 0., 0., 0., 0.],\n",
       "        [0., 1., 0., 0., 0.],\n",
       "        [0., 0., 1., 0., 0.],\n",
       "        [0., 0., 0., 1., 0.],\n",
       "        [0., 0., 0., 0., 1.]])"
      ]
     },
     "execution_count": 80,
     "metadata": {},
     "output_type": "execute_result"
    }
   ],
   "source": [
    "x = torch.eye(5,5) #Diaganali 1 ga teng 0 tensor yaratadi\n",
    "x"
   ]
  },
  {
   "cell_type": "code",
   "execution_count": 81,
   "metadata": {},
   "outputs": [
    {
     "data": {
      "text/plain": [
       "tensor([10, 12, 14, 16, 18, 20, 22, 24, 26, 28])"
      ]
     },
     "execution_count": 81,
     "metadata": {},
     "output_type": "execute_result"
    }
   ],
   "source": [
    "x = torch.arange(start=10,end=30,step=2) #Berilgan oraliqda ma'lum qadamli tensor hosil qiladi\n",
    "x"
   ]
  },
  {
   "cell_type": "code",
   "execution_count": 82,
   "metadata": {},
   "outputs": [
    {
     "data": {
      "text/plain": [
       "tensor([0.1000, 0.2000, 0.3000, 0.4000, 0.5000, 0.6000, 0.7000, 0.8000, 0.9000,\n",
       "        1.0000])"
      ]
     },
     "execution_count": 82,
     "metadata": {},
     "output_type": "execute_result"
    }
   ],
   "source": [
    "x = torch.linspace(start=0.1,end=1,steps=10) #Berilgan oraliqda n ta tensor hosil qiladi\n",
    "x"
   ]
  },
  {
   "cell_type": "code",
   "execution_count": 83,
   "metadata": {},
   "outputs": [
    {
     "data": {
      "text/plain": [
       "tensor([[-0.4160, -0.8686,  0.4966, -0.3693, -0.7521]])"
      ]
     },
     "execution_count": 83,
     "metadata": {},
     "output_type": "execute_result"
    }
   ],
   "source": [
    "x = torch.empty(size=(1,5)).normal_(mean=0,std=1) \n",
    "#Tensorni o'rtacha va std bilan parametrlangan normal taqsimotdan elementlar namunalari bilan to'ldiradi.\n",
    "x"
   ]
  },
  {
   "cell_type": "code",
   "execution_count": 84,
   "metadata": {},
   "outputs": [
    {
     "data": {
      "text/plain": [
       "tensor([[3.2672, 3.6186, 3.7341, 3.8315, 3.3474],\n",
       "        [3.0973, 3.8917, 3.0095, 3.6786, 3.4833]])"
      ]
     },
     "execution_count": 84,
     "metadata": {},
     "output_type": "execute_result"
    }
   ],
   "source": [
    "x = torch.empty(size=(2,5)).uniform_(3,4) \n",
    "x"
   ]
  },
  {
   "cell_type": "code",
   "execution_count": 85,
   "metadata": {},
   "outputs": [
    {
     "data": {
      "text/plain": [
       "tensor([[1., 0., 0., 0.],\n",
       "        [0., 1., 0., 0.],\n",
       "        [0., 0., 1., 0.],\n",
       "        [0., 0., 0., 1.]])"
      ]
     },
     "execution_count": 85,
     "metadata": {},
     "output_type": "execute_result"
    }
   ],
   "source": [
    "x = torch.diag(torch.ones(4)) \n",
    "#Diagonali n dan tashkil topgan tensor hosil qiladi\n",
    "x"
   ]
  },
  {
   "cell_type": "code",
   "execution_count": 86,
   "metadata": {},
   "outputs": [
    {
     "data": {
      "text/plain": [
       "tensor([[ True, False, False, False],\n",
       "        [False,  True, False, False],\n",
       "        [False, False,  True, False],\n",
       "        [False, False, False,  True]])"
      ]
     },
     "execution_count": 86,
     "metadata": {},
     "output_type": "execute_result"
    }
   ],
   "source": [
    "x.bool() #Elemetlar 0 bo'lsa False aks holda True bo'lgan mantiqiy tensor hosil qiladi"
   ]
  },
  {
   "cell_type": "code",
   "execution_count": 87,
   "metadata": {},
   "outputs": [
    {
     "data": {
      "text/plain": [
       "tensor([[0.9021, 0.9212, 0.3305, 0.3724],\n",
       "        [0.5815, 0.5699, 0.5527, 0.4524],\n",
       "        [0.4701, 0.4103, 0.5158, 0.6176],\n",
       "        [0.8326, 0.5252, 0.4425, 0.7357]])"
      ]
     },
     "execution_count": 87,
     "metadata": {},
     "output_type": "execute_result"
    }
   ],
   "source": [
    "random_tensor = torch.rand(size=(4,4)) #4x4 o'lchamli random tensor hosil qiladi\n",
    "random_tensor"
   ]
  },
  {
   "cell_type": "code",
   "execution_count": 88,
   "metadata": {},
   "outputs": [
    {
     "data": {
      "text/plain": [
       "(array([[1., 1., 1.],\n",
       "        [1., 1., 1.],\n",
       "        [1., 1., 1.]]),\n",
       " tensor([[1., 1., 1.],\n",
       "         [1., 1., 1.],\n",
       "         [1., 1., 1.]], dtype=torch.float64))"
      ]
     },
     "execution_count": 88,
     "metadata": {},
     "output_type": "execute_result"
    }
   ],
   "source": [
    "import numpy as np\n",
    "numpy_array = np.ones((3,3))   \n",
    "numpy_tensor = torch.from_numpy(numpy_array) #numpy array yordamida hosil qilingan tensor\n",
    "\n",
    "numpy_array,numpy_tensor\n"
   ]
  },
  {
   "cell_type": "code",
   "execution_count": 89,
   "metadata": {},
   "outputs": [
    {
     "data": {
      "text/plain": [
       "array([[1., 1., 1.],\n",
       "       [1., 1., 1.],\n",
       "       [1., 1., 1.]])"
      ]
     },
     "execution_count": 89,
     "metadata": {},
     "output_type": "execute_result"
    }
   ],
   "source": [
    "numpy_array_from_tensor = numpy_tensor.numpy()  #Tensordan numpy array hosil qilish\n",
    "numpy_array_from_tensor"
   ]
  },
  {
   "cell_type": "markdown",
   "metadata": {},
   "source": [
    "**Tensorlar ustida amallar**"
   ]
  },
  {
   "cell_type": "code",
   "execution_count": 124,
   "metadata": {},
   "outputs": [
    {
     "data": {
      "text/plain": [
       "tensor([108.,   3.,  47.])"
      ]
     },
     "execution_count": 124,
     "metadata": {},
     "output_type": "execute_result"
    }
   ],
   "source": [
    "x = torch.tensor([10,2,4])\n",
    "y = torch.tensor([98,1,43])\n",
    "\n",
    "z = torch.empty(3)\n",
    "\n",
    "torch.add(x,y,out=z) #add funksiyasi bilan tensorlar yig'indisini hisoblash"
   ]
  },
  {
   "cell_type": "code",
   "execution_count": 105,
   "metadata": {},
   "outputs": [
    {
     "data": {
      "text/plain": [
       "tensor([108,   3,  47])"
      ]
     },
     "execution_count": 105,
     "metadata": {},
     "output_type": "execute_result"
    }
   ],
   "source": [
    "x.add_(y) #x = x + y"
   ]
  },
  {
   "cell_type": "code",
   "execution_count": 106,
   "metadata": {},
   "outputs": [
    {
     "data": {
      "text/plain": [
       "tensor([10,  2,  4])"
      ]
     },
     "execution_count": 106,
     "metadata": {},
     "output_type": "execute_result"
    }
   ],
   "source": [
    "x.sub_(y) #x = x - y"
   ]
  },
  {
   "cell_type": "code",
   "execution_count": 107,
   "metadata": {},
   "outputs": [
    {
     "data": {
      "text/plain": [
       "tensor([0.1020, 2.0000, 0.0930])"
      ]
     },
     "execution_count": 107,
     "metadata": {},
     "output_type": "execute_result"
    }
   ],
   "source": [
    "torch.true_divide(x,y) # x/y"
   ]
  },
  {
   "cell_type": "code",
   "execution_count": 116,
   "metadata": {},
   "outputs": [
    {
     "data": {
      "text/plain": [
       "tensor([[0.6468, 1.1113, 1.0250, 0.5867, 0.7616],\n",
       "        [1.6697, 1.6003, 1.6967, 0.3796, 0.8671],\n",
       "        [0.6888, 1.0606, 0.9524, 0.5381, 0.7734]])"
      ]
     },
     "execution_count": 116,
     "metadata": {},
     "output_type": "execute_result"
    }
   ],
   "source": [
    "a = torch.rand(3,4)\n",
    "b = torch.rand(4,5)\n",
    "torch.mm(a,b)        #Matritsa ko'paytmasi"
   ]
  },
  {
   "cell_type": "code",
   "execution_count": 119,
   "metadata": {},
   "outputs": [
    {
     "name": "stdout",
     "output_type": "stream",
     "text": [
      "tensor([[0.9590, 0.4612, 0.8941],\n",
      "        [0.0995, 0.9500, 0.9124],\n",
      "        [0.8090, 0.4305, 0.9769]])\n"
     ]
    },
    {
     "data": {
      "text/plain": [
       "tensor([[3.4863, 2.9074, 4.7665],\n",
       "        [2.5178, 2.4974, 3.8579],\n",
       "        [3.3375, 2.7758, 4.5582]])"
      ]
     },
     "execution_count": 119,
     "metadata": {},
     "output_type": "execute_result"
    }
   ],
   "source": [
    "tens = torch.rand(3,3)\n",
    "print(tens)\n",
    "tens.matrix_power(3) #Matritsaning darajasi\n"
   ]
  },
  {
   "cell_type": "code",
   "execution_count": 133,
   "metadata": {},
   "outputs": [
    {
     "data": {
      "text/plain": [
       "tensor(1.3343)"
      ]
     },
     "execution_count": 133,
     "metadata": {},
     "output_type": "execute_result"
    }
   ],
   "source": [
    "a = torch.rand(3)\n",
    "b = torch.rand(3)\n",
    "z = torch.dot(a,b)\n",
    "z\n"
   ]
  },
  {
   "cell_type": "code",
   "execution_count": 139,
   "metadata": {},
   "outputs": [],
   "source": [
    "batch = 32\n",
    "n = 10\n",
    "m = 20\n",
    "p = 30\n",
    "\n",
    "tensor_1 = torch.rand((batch,n,m))\n",
    "tensor_2 = torch.rand((batch,m,p))\n",
    "tensor_bmm = torch.bmm(tensor_1,tensor_2)  #Matritsalar to'plamining ko'paytmasi\n"
   ]
  },
  {
   "cell_type": "code",
   "execution_count": 153,
   "metadata": {},
   "outputs": [
    {
     "name": "stdout",
     "output_type": "stream",
     "text": [
      "tensor([[[0.8823, 0.9150, 0.3829],\n",
      "         [0.9593, 0.3904, 0.6009],\n",
      "         [0.2566, 0.7936, 0.9408]],\n",
      "\n",
      "        [[0.1332, 0.9346, 0.5936],\n",
      "         [0.8694, 0.5677, 0.7411],\n",
      "         [0.4294, 0.8854, 0.5739]],\n",
      "\n",
      "        [[0.2666, 0.6274, 0.2696],\n",
      "         [0.4414, 0.2969, 0.8317],\n",
      "         [0.1053, 0.2695, 0.3588]],\n",
      "\n",
      "        [[0.1994, 0.5472, 0.0062],\n",
      "         [0.9516, 0.0753, 0.8860],\n",
      "         [0.5832, 0.3376, 0.8090]],\n",
      "\n",
      "        [[0.5779, 0.9040, 0.5547],\n",
      "         [0.3423, 0.6343, 0.3644],\n",
      "         [0.7104, 0.9464, 0.7890]]])\n",
      "tensor([[2.1801, 1.9506, 1.9910],\n",
      "        [1.6614, 2.1782, 1.8888],\n",
      "        [1.1637, 1.5700, 0.7336],\n",
      "        [0.7527, 1.9128, 1.7298],\n",
      "        [2.0366, 1.3411, 2.4459]])\n"
     ]
    }
   ],
   "source": [
    "torch.manual_seed(42)\n",
    "x = torch.rand(5,3,3)\n",
    "print(x)\n",
    "print(torch.sum(x,dim = -1))"
   ]
  },
  {
   "attachments": {
    "image.png": {
     "image/png": "[encoded data removed]"
    }
   },
   "cell_type": "markdown",
   "metadata": {},
   "source": [
    "![image.png](attachment:image.png)"
   ]
  },
  {
   "cell_type": "code",
   "execution_count": 158,
   "metadata": {},
   "outputs": [
    {
     "data": {
      "text/plain": [
       "torch.return_types.max(\n",
       "values=tensor([[0.8823, 0.9346, 0.5936],\n",
       "        [0.9593, 0.6343, 0.8860],\n",
       "        [0.7104, 0.9464, 0.9408]]),\n",
       "indices=tensor([[0, 1, 1],\n",
       "        [0, 4, 3],\n",
       "        [4, 4, 0]]))"
      ]
     },
     "execution_count": 158,
     "metadata": {},
     "output_type": "execute_result"
    }
   ],
   "source": [
    "torch.max(x,dim=0)"
   ]
  },
  {
   "cell_type": "code",
   "execution_count": 159,
   "metadata": {},
   "outputs": [
    {
     "data": {
      "text/plain": [
       "45"
      ]
     },
     "execution_count": 159,
     "metadata": {},
     "output_type": "execute_result"
    }
   ],
   "source": [
    "x.numel() #Elementlar sonini qaytaradi"
   ]
  },
  {
   "cell_type": "code",
   "execution_count": null,
   "metadata": {},
   "outputs": [],
   "source": []
  }
 ],
 "metadata": {
  "kernelspec": {
   "display_name": "env",
   "language": "python",
   "name": "python3"
  },
  "language_info": {
   "codemirror_mode": {
    "name": "ipython",
    "version": 3
   },
   "file_extension": ".py",
   "mimetype": "text/x-python",
   "name": "python",
   "nbconvert_exporter": "python",
   "pygments_lexer": "ipython3",
   "version": "3.10.13"
  }
 },
 "nbformat": 4,
 "nbformat_minor": 2
}
